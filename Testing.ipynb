{
 "cells": [
  {
   "cell_type": "code",
   "execution_count": 8,
   "metadata": {},
   "outputs": [],
   "source": [
    "import numpy as np\n",
    "import pandas as pd\n",
    "import matplotlib.pyplot as plt\n",
    "import scipy.stats as scs \n",
    "import seaborn as sns "
   ]
  },
  {
   "cell_type": "code",
   "execution_count": 9,
   "metadata": {},
   "outputs": [
    {
     "data": {
      "text/plain": [
       "0    3\n",
       "dtype: int64"
      ]
     },
     "execution_count": 9,
     "metadata": {},
     "output_type": "execute_result"
    }
   ],
   "source": [
    "# Mode\n",
    "# Most repeated number\n",
    "\n",
    "f = pd.Series([1, 2, 3, 3, 3, 4, 5])\n",
    "f.mode()"
   ]
  },
  {
   "cell_type": "code",
   "execution_count": 20,
   "metadata": {},
   "outputs": [
    {
     "data": {
      "text/plain": [
       "[3, 5, 5, 5, 6, 6, 7, 8, 9, 9, 13, 14]"
      ]
     },
     "execution_count": 20,
     "metadata": {},
     "output_type": "execute_result"
    }
   ],
   "source": [
    "# median\n",
    "# number in the middle of the sorted array\n",
    "\n",
    "values = [3, 6, 7, 8, 5, 5, 6, 5, 9, 14, 13, 9]\n",
    "\n",
    "values.sort()\n",
    "\n",
    "valseries = pd.Series(values)\n",
    "valseries.median()\n",
    "\n",
    "values"
   ]
  },
  {
   "cell_type": "code",
   "execution_count": 21,
   "metadata": {},
   "outputs": [
    {
     "data": {
      "text/plain": [
       "3.0"
      ]
     },
     "execution_count": 21,
     "metadata": {},
     "output_type": "execute_result"
    }
   ],
   "source": [
    "# mean\n",
    "# add all numbers and divide by length\n",
    "\n",
    "f = pd.Series([1, 2, 3, 3, 3, 4, 5])\n",
    "f.mean()"
   ]
  },
  {
   "cell_type": "code",
   "execution_count": 26,
   "metadata": {},
   "outputs": [
    {
     "name": "stdout",
     "output_type": "stream",
     "text": [
      "2\n"
     ]
    }
   ],
   "source": [
    "# range\n",
    "# largest value minus smallest value\n",
    "\n",
    "f = pd.Series([1, 2, 3])\n",
    "rangeval = f.max() - f.min()\n",
    "print(rangeval)"
   ]
  },
  {
   "cell_type": "code",
   "execution_count": 29,
   "metadata": {},
   "outputs": [
    {
     "data": {
      "text/plain": [
       "3.0"
      ]
     },
     "execution_count": 29,
     "metadata": {},
     "output_type": "execute_result"
    }
   ],
   "source": [
    "# Quartile\n",
    "# sort array and take the 3 symmetrical values (see example)\n",
    "\n",
    "# 1, 2, 6, 4, 5, 6, 7, 8, 9, 10, 11\n",
    "# =\n",
    "# 1, 2, x, 4, 5, x, 7, 8, x, 10, 11\n",
    "\n",
    "\n",
    "f = pd.Series([1, 2, 3, 3, 3, 4, 5])\n",
    "f.quantile(0.5) # Median'\n",
    "f.quantile(0.25) # first quartile"
   ]
  },
  {
   "cell_type": "code",
   "execution_count": 36,
   "metadata": {},
   "outputs": [
    {
     "data": {
      "text/plain": [
       "1.7320508075688772"
      ]
     },
     "execution_count": 36,
     "metadata": {},
     "output_type": "execute_result"
    }
   ],
   "source": [
    "# (sample) variance\n",
    "# take sample standard deviation and remove square root sign\n",
    "\n",
    "f = pd.Series([3, 6, 6])\n",
    "f.var()"
   ]
  },
  {
   "cell_type": "code",
   "execution_count": 38,
   "metadata": {},
   "outputs": [
    {
     "data": {
      "text/plain": [
       "1.7320508075688772"
      ]
     },
     "execution_count": 38,
     "metadata": {},
     "output_type": "execute_result"
    }
   ],
   "source": [
    "# (sample) standard deviation\n",
    "\n",
    "f = pd.Series([3, 6, 6])\n",
    "f.std()"
   ]
  }
 ],
 "metadata": {
  "kernelspec": {
   "display_name": "Python 3.9.13 ('Code-CYgrxAwh')",
   "language": "python",
   "name": "python3"
  },
  "language_info": {
   "codemirror_mode": {
    "name": "ipython",
    "version": 3
   },
   "file_extension": ".py",
   "mimetype": "text/x-python",
   "name": "python",
   "nbconvert_exporter": "python",
   "pygments_lexer": "ipython3",
   "version": "3.9.13"
  },
  "vscode": {
   "interpreter": {
    "hash": "d154d3528bab554518fce4b6bb47c23f2c1c42d729e7fb7463b0619040c8c50c"
   }
  }
 },
 "nbformat": 4,
 "nbformat_minor": 4
}
